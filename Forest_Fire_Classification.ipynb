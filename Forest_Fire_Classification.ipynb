{
  "nbformat": 4,
  "nbformat_minor": 0,
  "metadata": {
    "colab": {
      "name": "Forest Fire Classification.ipynb",
      "provenance": [],
      "collapsed_sections": []
    },
    "kernelspec": {
      "name": "python3",
      "display_name": "Python 3"
    },
    "language_info": {
      "name": "python"
    }
  },
  "cells": [
    {
      "cell_type": "code",
      "metadata": {
        "id": "hFyJ7is9eiSO"
      },
      "source": [
        "import pandas as pd\n",
        "import numpy as np\n",
        "import seaborn as sns\n",
        "import matplotlib.pyplot as plt\n"
      ],
      "execution_count": 2,
      "outputs": []
    },
    {
      "cell_type": "code",
      "metadata": {
        "id": "KtGjknQoeiU9"
      },
      "source": [
        "# reading csv file\n",
        "df = pd.read_csv('/content/Algerian_forest_fires_dataset_UPDATE.csv')     "
      ],
      "execution_count": 3,
      "outputs": []
    },
    {
      "cell_type": "code",
      "metadata": {
        "colab": {
          "base_uri": "https://localhost:8080/",
          "height": 419
        },
        "id": "MDru6p8BeiXa",
        "outputId": "b8e8dcae-4a6a-4a6e-e53b-295ff61b8ebb"
      },
      "source": [
        "df"
      ],
      "execution_count": 4,
      "outputs": [
        {
          "output_type": "execute_result",
          "data": {
            "text/html": [
              "<div>\n",
              "<style scoped>\n",
              "    .dataframe tbody tr th:only-of-type {\n",
              "        vertical-align: middle;\n",
              "    }\n",
              "\n",
              "    .dataframe tbody tr th {\n",
              "        vertical-align: top;\n",
              "    }\n",
              "\n",
              "    .dataframe thead th {\n",
              "        text-align: right;\n",
              "    }\n",
              "</style>\n",
              "<table border=\"1\" class=\"dataframe\">\n",
              "  <thead>\n",
              "    <tr style=\"text-align: right;\">\n",
              "      <th></th>\n",
              "      <th>day</th>\n",
              "      <th>month</th>\n",
              "      <th>year</th>\n",
              "      <th>Temperature</th>\n",
              "      <th>RH</th>\n",
              "      <th>Ws</th>\n",
              "      <th>Rain</th>\n",
              "      <th>FFMC</th>\n",
              "      <th>DMC</th>\n",
              "      <th>DC</th>\n",
              "      <th>ISI</th>\n",
              "      <th>BUI</th>\n",
              "      <th>FWI</th>\n",
              "      <th>Classes</th>\n",
              "    </tr>\n",
              "  </thead>\n",
              "  <tbody>\n",
              "    <tr>\n",
              "      <th>0</th>\n",
              "      <td>1</td>\n",
              "      <td>6</td>\n",
              "      <td>2012</td>\n",
              "      <td>29</td>\n",
              "      <td>57</td>\n",
              "      <td>18</td>\n",
              "      <td>0.0</td>\n",
              "      <td>65.7</td>\n",
              "      <td>3.4</td>\n",
              "      <td>7.6</td>\n",
              "      <td>1.3</td>\n",
              "      <td>3.4</td>\n",
              "      <td>0.5</td>\n",
              "      <td>not fire</td>\n",
              "    </tr>\n",
              "    <tr>\n",
              "      <th>1</th>\n",
              "      <td>2</td>\n",
              "      <td>6</td>\n",
              "      <td>2012</td>\n",
              "      <td>29</td>\n",
              "      <td>61</td>\n",
              "      <td>13</td>\n",
              "      <td>1.3</td>\n",
              "      <td>64.4</td>\n",
              "      <td>4.1</td>\n",
              "      <td>7.6</td>\n",
              "      <td>1.0</td>\n",
              "      <td>3.9</td>\n",
              "      <td>0.4</td>\n",
              "      <td>not fire</td>\n",
              "    </tr>\n",
              "    <tr>\n",
              "      <th>2</th>\n",
              "      <td>3</td>\n",
              "      <td>6</td>\n",
              "      <td>2012</td>\n",
              "      <td>26</td>\n",
              "      <td>82</td>\n",
              "      <td>22</td>\n",
              "      <td>13.1</td>\n",
              "      <td>47.1</td>\n",
              "      <td>2.5</td>\n",
              "      <td>7.1</td>\n",
              "      <td>0.3</td>\n",
              "      <td>2.7</td>\n",
              "      <td>0.1</td>\n",
              "      <td>not fire</td>\n",
              "    </tr>\n",
              "    <tr>\n",
              "      <th>3</th>\n",
              "      <td>4</td>\n",
              "      <td>6</td>\n",
              "      <td>2012</td>\n",
              "      <td>25</td>\n",
              "      <td>89</td>\n",
              "      <td>13</td>\n",
              "      <td>2.5</td>\n",
              "      <td>28.6</td>\n",
              "      <td>1.3</td>\n",
              "      <td>6.9</td>\n",
              "      <td>0.0</td>\n",
              "      <td>1.7</td>\n",
              "      <td>0</td>\n",
              "      <td>not fire</td>\n",
              "    </tr>\n",
              "    <tr>\n",
              "      <th>4</th>\n",
              "      <td>5</td>\n",
              "      <td>6</td>\n",
              "      <td>2012</td>\n",
              "      <td>27</td>\n",
              "      <td>77</td>\n",
              "      <td>16</td>\n",
              "      <td>0.0</td>\n",
              "      <td>64.8</td>\n",
              "      <td>3.0</td>\n",
              "      <td>14.2</td>\n",
              "      <td>1.2</td>\n",
              "      <td>3.9</td>\n",
              "      <td>0.5</td>\n",
              "      <td>not fire</td>\n",
              "    </tr>\n",
              "    <tr>\n",
              "      <th>...</th>\n",
              "      <td>...</td>\n",
              "      <td>...</td>\n",
              "      <td>...</td>\n",
              "      <td>...</td>\n",
              "      <td>...</td>\n",
              "      <td>...</td>\n",
              "      <td>...</td>\n",
              "      <td>...</td>\n",
              "      <td>...</td>\n",
              "      <td>...</td>\n",
              "      <td>...</td>\n",
              "      <td>...</td>\n",
              "      <td>...</td>\n",
              "      <td>...</td>\n",
              "    </tr>\n",
              "    <tr>\n",
              "      <th>239</th>\n",
              "      <td>26</td>\n",
              "      <td>9</td>\n",
              "      <td>2012</td>\n",
              "      <td>30</td>\n",
              "      <td>65</td>\n",
              "      <td>14</td>\n",
              "      <td>0.0</td>\n",
              "      <td>85.4</td>\n",
              "      <td>16.0</td>\n",
              "      <td>44.5</td>\n",
              "      <td>4.5</td>\n",
              "      <td>16.9</td>\n",
              "      <td>6.5</td>\n",
              "      <td>fire</td>\n",
              "    </tr>\n",
              "    <tr>\n",
              "      <th>240</th>\n",
              "      <td>27</td>\n",
              "      <td>9</td>\n",
              "      <td>2012</td>\n",
              "      <td>28</td>\n",
              "      <td>87</td>\n",
              "      <td>15</td>\n",
              "      <td>4.4</td>\n",
              "      <td>41.1</td>\n",
              "      <td>6.5</td>\n",
              "      <td>8</td>\n",
              "      <td>0.1</td>\n",
              "      <td>6.2</td>\n",
              "      <td>0</td>\n",
              "      <td>not fire</td>\n",
              "    </tr>\n",
              "    <tr>\n",
              "      <th>241</th>\n",
              "      <td>28</td>\n",
              "      <td>9</td>\n",
              "      <td>2012</td>\n",
              "      <td>27</td>\n",
              "      <td>87</td>\n",
              "      <td>29</td>\n",
              "      <td>0.5</td>\n",
              "      <td>45.9</td>\n",
              "      <td>3.5</td>\n",
              "      <td>7.9</td>\n",
              "      <td>0.4</td>\n",
              "      <td>3.4</td>\n",
              "      <td>0.2</td>\n",
              "      <td>not fire</td>\n",
              "    </tr>\n",
              "    <tr>\n",
              "      <th>242</th>\n",
              "      <td>29</td>\n",
              "      <td>9</td>\n",
              "      <td>2012</td>\n",
              "      <td>24</td>\n",
              "      <td>54</td>\n",
              "      <td>18</td>\n",
              "      <td>0.1</td>\n",
              "      <td>79.7</td>\n",
              "      <td>4.3</td>\n",
              "      <td>15.2</td>\n",
              "      <td>1.7</td>\n",
              "      <td>5.1</td>\n",
              "      <td>0.7</td>\n",
              "      <td>not fire</td>\n",
              "    </tr>\n",
              "    <tr>\n",
              "      <th>243</th>\n",
              "      <td>30</td>\n",
              "      <td>9</td>\n",
              "      <td>2012</td>\n",
              "      <td>24</td>\n",
              "      <td>64</td>\n",
              "      <td>15</td>\n",
              "      <td>0.2</td>\n",
              "      <td>67.3</td>\n",
              "      <td>3.8</td>\n",
              "      <td>16.5</td>\n",
              "      <td>1.2</td>\n",
              "      <td>4.8</td>\n",
              "      <td>0.5</td>\n",
              "      <td>not fire</td>\n",
              "    </tr>\n",
              "  </tbody>\n",
              "</table>\n",
              "<p>244 rows × 14 columns</p>\n",
              "</div>"
            ],
            "text/plain": [
              "     day  month  year  Temperature   RH  ...    DC  ISI   BUI  FWI     Classes  \n",
              "0      1      6  2012           29   57  ...   7.6  1.3   3.4  0.5   not fire   \n",
              "1      2      6  2012           29   61  ...   7.6  1.0   3.9  0.4   not fire   \n",
              "2      3      6  2012           26   82  ...   7.1  0.3   2.7  0.1   not fire   \n",
              "3      4      6  2012           25   89  ...   6.9  0.0   1.7    0   not fire   \n",
              "4      5      6  2012           27   77  ...  14.2  1.2   3.9  0.5   not fire   \n",
              "..   ...    ...   ...          ...  ...  ...   ...  ...   ...  ...           ...\n",
              "239   26      9  2012           30   65  ...  44.5  4.5  16.9  6.5       fire   \n",
              "240   27      9  2012           28   87  ...     8  0.1   6.2    0   not fire   \n",
              "241   28      9  2012           27   87  ...   7.9  0.4   3.4  0.2   not fire   \n",
              "242   29      9  2012           24   54  ...  15.2  1.7   5.1  0.7   not fire   \n",
              "243   30      9  2012           24   64  ...  16.5  1.2   4.8  0.5  not fire    \n",
              "\n",
              "[244 rows x 14 columns]"
            ]
          },
          "metadata": {},
          "execution_count": 4
        }
      ]
    },
    {
      "cell_type": "code",
      "metadata": {
        "colab": {
          "base_uri": "https://localhost:8080/"
        },
        "id": "fMdfiPydeiaL",
        "outputId": "2db27c08-4262-456b-a907-33ccd34f7543"
      },
      "source": [
        "#checking the data types of features\n",
        "df.info()"
      ],
      "execution_count": 5,
      "outputs": [
        {
          "output_type": "stream",
          "name": "stdout",
          "text": [
            "<class 'pandas.core.frame.DataFrame'>\n",
            "RangeIndex: 244 entries, 0 to 243\n",
            "Data columns (total 14 columns):\n",
            " #   Column       Non-Null Count  Dtype  \n",
            "---  ------       --------------  -----  \n",
            " 0   day          244 non-null    int64  \n",
            " 1   month        244 non-null    int64  \n",
            " 2   year         244 non-null    int64  \n",
            " 3   Temperature  244 non-null    int64  \n",
            " 4    RH          244 non-null    int64  \n",
            " 5    Ws          244 non-null    int64  \n",
            " 6   Rain         244 non-null    float64\n",
            " 7   FFMC         244 non-null    float64\n",
            " 8   DMC          244 non-null    float64\n",
            " 9   DC           244 non-null    object \n",
            " 10  ISI          244 non-null    float64\n",
            " 11  BUI          244 non-null    float64\n",
            " 12  FWI          244 non-null    object \n",
            " 13  Classes      243 non-null    object \n",
            "dtypes: float64(5), int64(6), object(3)\n",
            "memory usage: 26.8+ KB\n"
          ]
        }
      ]
    },
    {
      "cell_type": "code",
      "metadata": {
        "colab": {
          "base_uri": "https://localhost:8080/"
        },
        "id": "LIYbO5Ixeic9",
        "outputId": "3d21a7ca-5da2-497c-a4e3-0d4320bae74d"
      },
      "source": [
        "#checking nan values\n",
        "df.isna().sum()"
      ],
      "execution_count": 6,
      "outputs": [
        {
          "output_type": "execute_result",
          "data": {
            "text/plain": [
              "day            0\n",
              "month          0\n",
              "year           0\n",
              "Temperature    0\n",
              " RH            0\n",
              " Ws            0\n",
              "Rain           0\n",
              "FFMC           0\n",
              "DMC            0\n",
              "DC             0\n",
              "ISI            0\n",
              "BUI            0\n",
              "FWI            0\n",
              "Classes        1\n",
              "dtype: int64"
            ]
          },
          "metadata": {},
          "execution_count": 6
        }
      ]
    },
    {
      "cell_type": "code",
      "metadata": {
        "id": "Doyjoc75eifi"
      },
      "source": [
        "#droping the nan value\n",
        "df.dropna(inplace=True)"
      ],
      "execution_count": 8,
      "outputs": []
    },
    {
      "cell_type": "code",
      "metadata": {
        "colab": {
          "base_uri": "https://localhost:8080/"
        },
        "id": "nlWhr9kXgz20",
        "outputId": "7cac9737-f704-4bf9-e90d-390140290f1e"
      },
      "source": [
        "# checking unique values in year feature\n",
        "df.year.unique()"
      ],
      "execution_count": 12,
      "outputs": [
        {
          "output_type": "execute_result",
          "data": {
            "text/plain": [
              "array([2012])"
            ]
          },
          "metadata": {},
          "execution_count": 12
        }
      ]
    },
    {
      "cell_type": "code",
      "metadata": {
        "colab": {
          "base_uri": "https://localhost:8080/",
          "height": 867
        },
        "id": "mt3OJVj6eihz",
        "outputId": "81810492-6211-441f-d10b-214b1eac2672"
      },
      "source": [
        "plt.figure(figsize=(15,15))                       # changing fig size \n",
        "sns.heatmap(df.corr(),annot=True)                  # plotting correlation\n",
        "plt.show()"
      ],
      "execution_count": 11,
      "outputs": [
        {
          "output_type": "display_data",
          "data": {
            "image/png": "[encoded data removed]",
            "text/plain": [
              "<Figure size 1080x1080 with 2 Axes>"
            ]
          },
          "metadata": {
            "needs_background": "light"
          }
        }
      ]
    },
    {
      "cell_type": "code",
      "metadata": {
        "id": "t0-h6pxqeimS"
      },
      "source": [
        "df.drop(['DMC','year'],inplace=True,axis=1)  # dropping the year and DMC "
      ],
      "execution_count": 14,
      "outputs": []
    },
    {
      "cell_type": "code",
      "metadata": {
        "id": "Mqqy6hPNeioy"
      },
      "source": [
        "# splitting the dependent and independent features\n",
        "x = df.iloc[:,:-1]\n",
        "y = df.iloc[:,-1]"
      ],
      "execution_count": 15,
      "outputs": []
    },
    {
      "cell_type": "code",
      "metadata": {
        "colab": {
          "base_uri": "https://localhost:8080/",
          "height": 419
        },
        "id": "Xc1naldPeirc",
        "outputId": "f10197b9-011f-420f-b311-35779aa233c3"
      },
      "source": [
        "x"
      ],
      "execution_count": 16,
      "outputs": [
        {
          "output_type": "execute_result",
          "data": {
            "text/html": [
              "<div>\n",
              "<style scoped>\n",
              "    .dataframe tbody tr th:only-of-type {\n",
              "        vertical-align: middle;\n",
              "    }\n",
              "\n",
              "    .dataframe tbody tr th {\n",
              "        vertical-align: top;\n",
              "    }\n",
              "\n",
              "    .dataframe thead th {\n",
              "        text-align: right;\n",
              "    }\n",
              "</style>\n",
              "<table border=\"1\" class=\"dataframe\">\n",
              "  <thead>\n",
              "    <tr style=\"text-align: right;\">\n",
              "      <th></th>\n",
              "      <th>day</th>\n",
              "      <th>month</th>\n",
              "      <th>Temperature</th>\n",
              "      <th>RH</th>\n",
              "      <th>Ws</th>\n",
              "      <th>Rain</th>\n",
              "      <th>FFMC</th>\n",
              "      <th>DC</th>\n",
              "      <th>ISI</th>\n",
              "      <th>BUI</th>\n",
              "      <th>FWI</th>\n",
              "    </tr>\n",
              "  </thead>\n",
              "  <tbody>\n",
              "    <tr>\n",
              "      <th>0</th>\n",
              "      <td>1</td>\n",
              "      <td>6</td>\n",
              "      <td>29</td>\n",
              "      <td>57</td>\n",
              "      <td>18</td>\n",
              "      <td>0.0</td>\n",
              "      <td>65.7</td>\n",
              "      <td>7.6</td>\n",
              "      <td>1.3</td>\n",
              "      <td>3.4</td>\n",
              "      <td>0.5</td>\n",
              "    </tr>\n",
              "    <tr>\n",
              "      <th>1</th>\n",
              "      <td>2</td>\n",
              "      <td>6</td>\n",
              "      <td>29</td>\n",
              "      <td>61</td>\n",
              "      <td>13</td>\n",
              "      <td>1.3</td>\n",
              "      <td>64.4</td>\n",
              "      <td>7.6</td>\n",
              "      <td>1.0</td>\n",
              "      <td>3.9</td>\n",
              "      <td>0.4</td>\n",
              "    </tr>\n",
              "    <tr>\n",
              "      <th>2</th>\n",
              "      <td>3</td>\n",
              "      <td>6</td>\n",
              "      <td>26</td>\n",
              "      <td>82</td>\n",
              "      <td>22</td>\n",
              "      <td>13.1</td>\n",
              "      <td>47.1</td>\n",
              "      <td>7.1</td>\n",
              "      <td>0.3</td>\n",
              "      <td>2.7</td>\n",
              "      <td>0.1</td>\n",
              "    </tr>\n",
              "    <tr>\n",
              "      <th>3</th>\n",
              "      <td>4</td>\n",
              "      <td>6</td>\n",
              "      <td>25</td>\n",
              "      <td>89</td>\n",
              "      <td>13</td>\n",
              "      <td>2.5</td>\n",
              "      <td>28.6</td>\n",
              "      <td>6.9</td>\n",
              "      <td>0.0</td>\n",
              "      <td>1.7</td>\n",
              "      <td>0</td>\n",
              "    </tr>\n",
              "    <tr>\n",
              "      <th>4</th>\n",
              "      <td>5</td>\n",
              "      <td>6</td>\n",
              "      <td>27</td>\n",
              "      <td>77</td>\n",
              "      <td>16</td>\n",
              "      <td>0.0</td>\n",
              "      <td>64.8</td>\n",
              "      <td>14.2</td>\n",
              "      <td>1.2</td>\n",
              "      <td>3.9</td>\n",
              "      <td>0.5</td>\n",
              "    </tr>\n",
              "    <tr>\n",
              "      <th>...</th>\n",
              "      <td>...</td>\n",
              "      <td>...</td>\n",
              "      <td>...</td>\n",
              "      <td>...</td>\n",
              "      <td>...</td>\n",
              "      <td>...</td>\n",
              "      <td>...</td>\n",
              "      <td>...</td>\n",
              "      <td>...</td>\n",
              "      <td>...</td>\n",
              "      <td>...</td>\n",
              "    </tr>\n",
              "    <tr>\n",
              "      <th>239</th>\n",
              "      <td>26</td>\n",
              "      <td>9</td>\n",
              "      <td>30</td>\n",
              "      <td>65</td>\n",
              "      <td>14</td>\n",
              "      <td>0.0</td>\n",
              "      <td>85.4</td>\n",
              "      <td>44.5</td>\n",
              "      <td>4.5</td>\n",
              "      <td>16.9</td>\n",
              "      <td>6.5</td>\n",
              "    </tr>\n",
              "    <tr>\n",
              "      <th>240</th>\n",
              "      <td>27</td>\n",
              "      <td>9</td>\n",
              "      <td>28</td>\n",
              "      <td>87</td>\n",
              "      <td>15</td>\n",
              "      <td>4.4</td>\n",
              "      <td>41.1</td>\n",
              "      <td>8</td>\n",
              "      <td>0.1</td>\n",
              "      <td>6.2</td>\n",
              "      <td>0</td>\n",
              "    </tr>\n",
              "    <tr>\n",
              "      <th>241</th>\n",
              "      <td>28</td>\n",
              "      <td>9</td>\n",
              "      <td>27</td>\n",
              "      <td>87</td>\n",
              "      <td>29</td>\n",
              "      <td>0.5</td>\n",
              "      <td>45.9</td>\n",
              "      <td>7.9</td>\n",
              "      <td>0.4</td>\n",
              "      <td>3.4</td>\n",
              "      <td>0.2</td>\n",
              "    </tr>\n",
              "    <tr>\n",
              "      <th>242</th>\n",
              "      <td>29</td>\n",
              "      <td>9</td>\n",
              "      <td>24</td>\n",
              "      <td>54</td>\n",
              "      <td>18</td>\n",
              "      <td>0.1</td>\n",
              "      <td>79.7</td>\n",
              "      <td>15.2</td>\n",
              "      <td>1.7</td>\n",
              "      <td>5.1</td>\n",
              "      <td>0.7</td>\n",
              "    </tr>\n",
              "    <tr>\n",
              "      <th>243</th>\n",
              "      <td>30</td>\n",
              "      <td>9</td>\n",
              "      <td>24</td>\n",
              "      <td>64</td>\n",
              "      <td>15</td>\n",
              "      <td>0.2</td>\n",
              "      <td>67.3</td>\n",
              "      <td>16.5</td>\n",
              "      <td>1.2</td>\n",
              "      <td>4.8</td>\n",
              "      <td>0.5</td>\n",
              "    </tr>\n",
              "  </tbody>\n",
              "</table>\n",
              "<p>243 rows × 11 columns</p>\n",
              "</div>"
            ],
            "text/plain": [
              "     day  month  Temperature   RH   Ws  Rain   FFMC    DC  ISI   BUI  FWI\n",
              "0      1      6           29   57   18    0.0  65.7   7.6  1.3   3.4  0.5\n",
              "1      2      6           29   61   13    1.3  64.4   7.6  1.0   3.9  0.4\n",
              "2      3      6           26   82   22   13.1  47.1   7.1  0.3   2.7  0.1\n",
              "3      4      6           25   89   13    2.5  28.6   6.9  0.0   1.7    0\n",
              "4      5      6           27   77   16    0.0  64.8  14.2  1.2   3.9  0.5\n",
              "..   ...    ...          ...  ...  ...    ...   ...   ...  ...   ...  ...\n",
              "239   26      9           30   65   14    0.0  85.4  44.5  4.5  16.9  6.5\n",
              "240   27      9           28   87   15    4.4  41.1     8  0.1   6.2    0\n",
              "241   28      9           27   87   29    0.5  45.9   7.9  0.4   3.4  0.2\n",
              "242   29      9           24   54   18    0.1  79.7  15.2  1.7   5.1  0.7\n",
              "243   30      9           24   64   15    0.2  67.3  16.5  1.2   4.8  0.5\n",
              "\n",
              "[243 rows x 11 columns]"
            ]
          },
          "metadata": {},
          "execution_count": 16
        }
      ]
    },
    {
      "cell_type": "code",
      "metadata": {
        "colab": {
          "base_uri": "https://localhost:8080/"
        },
        "id": "mRu5rwf0eit7",
        "outputId": "d065f4d2-25ad-4c18-b239-b659ba04380a"
      },
      "source": [
        "y"
      ],
      "execution_count": 17,
      "outputs": [
        {
          "output_type": "execute_result",
          "data": {
            "text/plain": [
              "0       not fire   \n",
              "1       not fire   \n",
              "2       not fire   \n",
              "3       not fire   \n",
              "4       not fire   \n",
              "           ...     \n",
              "239         fire   \n",
              "240     not fire   \n",
              "241     not fire   \n",
              "242     not fire   \n",
              "243    not fire    \n",
              "Name: Classes  , Length: 243, dtype: object"
            ]
          },
          "metadata": {},
          "execution_count": 17
        }
      ]
    },
    {
      "cell_type": "code",
      "metadata": {
        "colab": {
          "base_uri": "https://localhost:8080/"
        },
        "id": "z6hC0vTZeiwd",
        "outputId": "7a027537-1c05-4333-ff4a-73510b37ab35"
      },
      "source": [
        "# changing the object into a binary format \n",
        "Y = y.apply(lambda x : 0 if x.startswith('not') else 1)\n",
        "Y"
      ],
      "execution_count": 20,
      "outputs": [
        {
          "output_type": "execute_result",
          "data": {
            "text/plain": [
              "0      0\n",
              "1      0\n",
              "2      0\n",
              "3      0\n",
              "4      0\n",
              "      ..\n",
              "239    1\n",
              "240    0\n",
              "241    0\n",
              "242    0\n",
              "243    0\n",
              "Name: Classes  , Length: 243, dtype: int64"
            ]
          },
          "metadata": {},
          "execution_count": 20
        }
      ]
    },
    {
      "cell_type": "code",
      "metadata": {
        "colab": {
          "base_uri": "https://localhost:8080/"
        },
        "id": "wzKxrMeKei18",
        "outputId": "2ad346fc-de5f-4d64-d19c-238be6d905aa"
      },
      "source": [
        "# checking the info\n",
        "x.info() "
      ],
      "execution_count": 22,
      "outputs": [
        {
          "output_type": "stream",
          "name": "stdout",
          "text": [
            "<class 'pandas.core.frame.DataFrame'>\n",
            "Int64Index: 243 entries, 0 to 243\n",
            "Data columns (total 11 columns):\n",
            " #   Column       Non-Null Count  Dtype  \n",
            "---  ------       --------------  -----  \n",
            " 0   day          243 non-null    int64  \n",
            " 1   month        243 non-null    int64  \n",
            " 2   Temperature  243 non-null    int64  \n",
            " 3    RH          243 non-null    int64  \n",
            " 4    Ws          243 non-null    int64  \n",
            " 5   Rain         243 non-null    float64\n",
            " 6   FFMC         243 non-null    float64\n",
            " 7   DC           243 non-null    object \n",
            " 8   ISI          243 non-null    float64\n",
            " 9   BUI          243 non-null    float64\n",
            " 10  FWI          243 non-null    object \n",
            "dtypes: float64(4), int64(5), object(2)\n",
            "memory usage: 32.8+ KB\n"
          ]
        }
      ]
    },
    {
      "cell_type": "code",
      "metadata": {
        "id": "JwBxBiRnei31"
      },
      "source": [
        "# changing datatype \n",
        "x.DC = x.DC.astype(float)"
      ],
      "execution_count": 23,
      "outputs": []
    },
    {
      "cell_type": "code",
      "metadata": {
        "id": "jfK7Xx0pkOBh"
      },
      "source": [
        "x.FWI = x.FWI.astype(float)"
      ],
      "execution_count": 24,
      "outputs": []
    },
    {
      "cell_type": "code",
      "metadata": {
        "colab": {
          "base_uri": "https://localhost:8080/"
        },
        "id": "3XQGtk3jkN_p",
        "outputId": "4b84c162-818f-4e31-c302-c6093ec55415"
      },
      "source": [
        "x.info() #checking info"
      ],
      "execution_count": 25,
      "outputs": [
        {
          "output_type": "stream",
          "name": "stdout",
          "text": [
            "<class 'pandas.core.frame.DataFrame'>\n",
            "Int64Index: 243 entries, 0 to 243\n",
            "Data columns (total 11 columns):\n",
            " #   Column       Non-Null Count  Dtype  \n",
            "---  ------       --------------  -----  \n",
            " 0   day          243 non-null    int64  \n",
            " 1   month        243 non-null    int64  \n",
            " 2   Temperature  243 non-null    int64  \n",
            " 3    RH          243 non-null    int64  \n",
            " 4    Ws          243 non-null    int64  \n",
            " 5   Rain         243 non-null    float64\n",
            " 6   FFMC         243 non-null    float64\n",
            " 7   DC           243 non-null    float64\n",
            " 8   ISI          243 non-null    float64\n",
            " 9   BUI          243 non-null    float64\n",
            " 10  FWI          243 non-null    float64\n",
            "dtypes: float64(6), int64(5)\n",
            "memory usage: 32.8 KB\n"
          ]
        }
      ]
    },
    {
      "cell_type": "code",
      "metadata": {
        "id": "nXgOFuOAkN9b"
      },
      "source": [
        "from sklearn.preprocessing import MinMaxScaler\n",
        "from sklearn.model_selection import train_test_split\n",
        "from sklearn.linear_model import LogisticRegression\n",
        "from sklearn.svm import SVC\n"
      ],
      "execution_count": 26,
      "outputs": []
    },
    {
      "cell_type": "code",
      "metadata": {
        "id": "MbM901sVkN71"
      },
      "source": [
        "#scaling the independent feature from 1 to 0  \n",
        "scaler = MinMaxScaler(feature_range=(0,1))\n",
        "X = scaler.fit_transform(x) "
      ],
      "execution_count": 27,
      "outputs": []
    },
    {
      "cell_type": "code",
      "metadata": {
        "colab": {
          "base_uri": "https://localhost:8080/"
        },
        "id": "zA2HKBIrkN50",
        "outputId": "c2133485-29c0-4b00-bdd7-37851f6eebab"
      },
      "source": [
        "X"
      ],
      "execution_count": 28,
      "outputs": [
        {
          "output_type": "execute_result",
          "data": {
            "text/plain": [
              "array([[0.        , 0.        , 0.35      , ..., 0.06842105, 0.03437967,\n",
              "        0.01607717],\n",
              "       [0.03333333, 0.        , 0.35      , ..., 0.05263158, 0.04185351,\n",
              "        0.01286174],\n",
              "       [0.06666667, 0.        , 0.2       , ..., 0.01578947, 0.02391629,\n",
              "        0.00321543],\n",
              "       ...,\n",
              "       [0.9       , 1.        , 0.25      , ..., 0.02105263, 0.03437967,\n",
              "        0.00643087],\n",
              "       [0.93333333, 1.        , 0.1       , ..., 0.08947368, 0.05979073,\n",
              "        0.02250804],\n",
              "       [0.96666667, 1.        , 0.1       , ..., 0.06315789, 0.05530643,\n",
              "        0.01607717]])"
            ]
          },
          "metadata": {},
          "execution_count": 28
        }
      ]
    },
    {
      "cell_type": "code",
      "metadata": {
        "id": "sv4qedUQmJsU"
      },
      "source": [
        "# cross validation\n",
        "x_train,x_test,y_train,y_test= train_test_split(X,Y,test_size = 0.1,shuffle=True)\n"
      ],
      "execution_count": 31,
      "outputs": []
    },
    {
      "cell_type": "code",
      "metadata": {
        "colab": {
          "base_uri": "https://localhost:8080/"
        },
        "id": "DwbFFu9XmryL",
        "outputId": "a9f6f895-5eec-4df7-cbbb-5598a1669a40"
      },
      "source": [
        "x_train.shape,y_train.shape,x_test.shape,y_test.shape"
      ],
      "execution_count": 32,
      "outputs": [
        {
          "output_type": "execute_result",
          "data": {
            "text/plain": [
              "((218, 11), (218,), (25, 11), (25,))"
            ]
          },
          "metadata": {},
          "execution_count": 32
        }
      ]
    },
    {
      "cell_type": "markdown",
      "metadata": {
        "id": "yM4-ck_4qWTs"
      },
      "source": [
        "# Logistic Regression"
      ]
    },
    {
      "cell_type": "code",
      "metadata": {
        "id": "RMuDI_lrkN4A"
      },
      "source": [
        "LR_model = LogisticRegression()\n",
        "model = LR_model.fit(x_train,y_train)\n",
        "LR_pred =  model.predict(x_test)"
      ],
      "execution_count": 33,
      "outputs": []
    },
    {
      "cell_type": "code",
      "metadata": {
        "id": "6KCmZyWUkN1x"
      },
      "source": [
        "from sklearn.metrics import classification_report\n"
      ],
      "execution_count": 35,
      "outputs": []
    },
    {
      "cell_type": "code",
      "metadata": {
        "colab": {
          "base_uri": "https://localhost:8080/"
        },
        "id": "iUWmrwgckNzc",
        "outputId": "8802b85f-936d-49ba-ffc6-503ca1bb8a71"
      },
      "source": [
        "print(classification_report(y_test,LR_pred))"
      ],
      "execution_count": 36,
      "outputs": [
        {
          "output_type": "stream",
          "name": "stdout",
          "text": [
            "              precision    recall  f1-score   support\n",
            "\n",
            "           0       0.92      1.00      0.96        11\n",
            "           1       1.00      0.93      0.96        14\n",
            "\n",
            "    accuracy                           0.96        25\n",
            "   macro avg       0.96      0.96      0.96        25\n",
            "weighted avg       0.96      0.96      0.96        25\n",
            "\n"
          ]
        }
      ]
    },
    {
      "cell_type": "code",
      "metadata": {
        "id": "-fDlRzNSkNw6"
      },
      "source": [
        "#saving model\n",
        "filename = 'logistic_model.pkl'\n",
        "pickle.dump(model, open(filename, 'wb'))"
      ],
      "execution_count": 38,
      "outputs": []
    },
    {
      "cell_type": "code",
      "metadata": {
        "id": "BDWcQkbcpeUE"
      },
      "source": [
        "#saving minmax scaler\n",
        "pickle.dump(scaler, open(\"scaler.pkl\", 'wb'))"
      ],
      "execution_count": 51,
      "outputs": []
    },
    {
      "cell_type": "markdown",
      "metadata": {
        "id": "85ak9FzEwT5t"
      },
      "source": [
        "# SVM"
      ]
    },
    {
      "cell_type": "code",
      "metadata": {
        "id": "I_nzk0XAqe5l"
      },
      "source": [
        "SVM_model = SVC().fit(x_train,y_train)\n",
        "SVM_pred = SVM_model.predict(x_test)\n"
      ],
      "execution_count": 48,
      "outputs": []
    },
    {
      "cell_type": "code",
      "metadata": {
        "colab": {
          "base_uri": "https://localhost:8080/"
        },
        "id": "N3KIE0wnqe3W",
        "outputId": "b0d03699-b3de-433e-e050-a092b9ac334f"
      },
      "source": [
        "print(classification_report(y_test,SVM_pred))"
      ],
      "execution_count": 49,
      "outputs": [
        {
          "output_type": "stream",
          "name": "stdout",
          "text": [
            "              precision    recall  f1-score   support\n",
            "\n",
            "           0       0.92      1.00      0.96        11\n",
            "           1       1.00      0.93      0.96        14\n",
            "\n",
            "    accuracy                           0.96        25\n",
            "   macro avg       0.96      0.96      0.96        25\n",
            "weighted avg       0.96      0.96      0.96        25\n",
            "\n"
          ]
        }
      ]
    },
    {
      "cell_type": "code",
      "metadata": {
        "id": "a8_vOMTfqe0y"
      },
      "source": [
        "# saving a model\n",
        "pickle.dump(SVM_model,open('SVM_model.pkl','wb'))"
      ],
      "execution_count": 50,
      "outputs": []
    },
    {
      "cell_type": "markdown",
      "metadata": {
        "id": "cQizpnDCwWEt"
      },
      "source": [
        "# Neural Networks"
      ]
    },
    {
      "cell_type": "code",
      "metadata": {
        "id": "1GTLBme7qex8"
      },
      "source": [
        "from tensorflow.keras.layers import Dense,Dropout\n",
        "from tensorflow.keras import Sequential\n",
        "from tensorflow.keras.metrics import Precision, Recall\n",
        "from tensorflow.keras.optimizers import Adam"
      ],
      "execution_count": 67,
      "outputs": []
    },
    {
      "cell_type": "markdown",
      "metadata": {
        "id": "tGHj5zWX8Esa"
      },
      "source": [
        "## Adding layers and dropout \n"
      ]
    },
    {
      "cell_type": "code",
      "metadata": {
        "colab": {
          "base_uri": "https://localhost:8080/"
        },
        "id": "G63OOneVqeqN",
        "outputId": "282065b8-bf9a-4c1e-b8ba-9bbd621dac3d"
      },
      "source": [
        "nn_model = Sequential()\n",
        "nn_model.add(Dense(32,activation='relu',input_shape=x_train.shape[1:], name='hidden_1'))\n",
        "nn_model.add(Dense(64,activation='relu', name=\"hidden_2\"))\n",
        "nn_model.add(Dense(128,activation='relu', name=\"hidden_3\"))\n",
        "nn_model.add(Dropout(0.3,name='Dropout_1'))\n",
        "nn_model.add(Dense(64,activation='relu', name=\"hidden_4\"))\n",
        "nn_model.add(Dropout(0.3,name='Dropout_2'))\n",
        "nn_model.add(Dense(32,activation='relu', name=\"hidden_5\"))\n",
        "nn_model.add(Dense(1,activation='sigmoid', name='output'))\n",
        "nn_model.summary()"
      ],
      "execution_count": 64,
      "outputs": [
        {
          "output_type": "stream",
          "name": "stdout",
          "text": [
            "Model: \"sequential_4\"\n",
            "_________________________________________________________________\n",
            "Layer (type)                 Output Shape              Param #   \n",
            "=================================================================\n",
            "hidden_1 (Dense)             (None, 32)                384       \n",
            "_________________________________________________________________\n",
            "hidden_2 (Dense)             (None, 64)                2112      \n",
            "_________________________________________________________________\n",
            "hidden_3 (Dense)             (None, 128)               8320      \n",
            "_________________________________________________________________\n",
            "Dropout_1 (Dropout)          (None, 128)               0         \n",
            "_________________________________________________________________\n",
            "hidden_4 (Dense)             (None, 64)                8256      \n",
            "_________________________________________________________________\n",
            "Dropout_2 (Dropout)          (None, 64)                0         \n",
            "_________________________________________________________________\n",
            "hidden_5 (Dense)             (None, 32)                2080      \n",
            "_________________________________________________________________\n",
            "output (Dense)               (None, 1)                 33        \n",
            "=================================================================\n",
            "Total params: 21,185\n",
            "Trainable params: 21,185\n",
            "Non-trainable params: 0\n",
            "_________________________________________________________________\n"
          ]
        }
      ]
    },
    {
      "cell_type": "markdown",
      "metadata": {
        "id": "Y5gTt_ZQ8yFN"
      },
      "source": [
        "### Training \n"
      ]
    },
    {
      "cell_type": "code",
      "metadata": {
        "id": "HiTOUBN0waJ8"
      },
      "source": [
        "nn_model.compile(optimizer=Adam(learning_rate=1e-3), loss='binary_crossentropy', metrics=['accuracy', Precision(), Recall()])"
      ],
      "execution_count": 68,
      "outputs": []
    },
    {
      "cell_type": "code",
      "metadata": {
        "colab": {
          "base_uri": "https://localhost:8080/"
        },
        "id": "cIsBmdQvwaGB",
        "outputId": "f5de01d9-aa9f-4329-8eed-bc14e8e116c7"
      },
      "source": [
        "nn_model.fit(x_train,y_train,epochs=40)"
      ],
      "execution_count": 69,
      "outputs": [
        {
          "output_type": "stream",
          "name": "stdout",
          "text": [
            "Epoch 1/40\n",
            "7/7 [==============================] - 1s 3ms/step - loss: 0.6559 - accuracy: 0.5917 - precision_2: 0.5810 - recall_2: 0.9919\n",
            "Epoch 2/40\n",
            "7/7 [==============================] - 0s 4ms/step - loss: 0.6198 - accuracy: 0.6055 - precision_2: 0.5894 - recall_2: 0.9919\n",
            "Epoch 3/40\n",
            "7/7 [==============================] - 0s 3ms/step - loss: 0.5525 - accuracy: 0.6789 - precision_2: 0.6373 - recall_2: 1.0000\n",
            "Epoch 4/40\n",
            "7/7 [==============================] - 0s 4ms/step - loss: 0.4944 - accuracy: 0.7569 - precision_2: 0.7035 - recall_2: 0.9837\n",
            "Epoch 5/40\n",
            "7/7 [==============================] - 0s 4ms/step - loss: 0.4023 - accuracy: 0.8853 - precision_2: 0.8828 - recall_2: 0.9187\n",
            "Epoch 6/40\n",
            "7/7 [==============================] - 0s 4ms/step - loss: 0.3324 - accuracy: 0.8532 - precision_2: 0.8227 - recall_2: 0.9431\n",
            "Epoch 7/40\n",
            "7/7 [==============================] - 0s 4ms/step - loss: 0.2588 - accuracy: 0.9174 - precision_2: 0.9268 - recall_2: 0.9268\n",
            "Epoch 8/40\n",
            "7/7 [==============================] - 0s 4ms/step - loss: 0.2334 - accuracy: 0.8991 - precision_2: 0.9106 - recall_2: 0.9106\n",
            "Epoch 9/40\n",
            "7/7 [==============================] - 0s 4ms/step - loss: 0.1785 - accuracy: 0.9312 - precision_2: 0.9426 - recall_2: 0.9350\n",
            "Epoch 10/40\n",
            "7/7 [==============================] - 0s 4ms/step - loss: 0.1503 - accuracy: 0.9495 - precision_2: 0.9746 - recall_2: 0.9350\n",
            "Epoch 11/40\n",
            "7/7 [==============================] - 0s 4ms/step - loss: 0.1242 - accuracy: 0.9633 - precision_2: 0.9528 - recall_2: 0.9837\n",
            "Epoch 12/40\n",
            "7/7 [==============================] - 0s 4ms/step - loss: 0.1127 - accuracy: 0.9633 - precision_2: 0.9832 - recall_2: 0.9512\n",
            "Epoch 13/40\n",
            "7/7 [==============================] - 0s 4ms/step - loss: 0.0923 - accuracy: 0.9587 - precision_2: 0.9672 - recall_2: 0.9593\n",
            "Epoch 14/40\n",
            "7/7 [==============================] - 0s 4ms/step - loss: 0.0954 - accuracy: 0.9633 - precision_2: 0.9675 - recall_2: 0.9675\n",
            "Epoch 15/40\n",
            "7/7 [==============================] - 0s 3ms/step - loss: 0.0841 - accuracy: 0.9725 - precision_2: 0.9756 - recall_2: 0.9756\n",
            "Epoch 16/40\n",
            "7/7 [==============================] - 0s 3ms/step - loss: 0.0662 - accuracy: 0.9817 - precision_2: 0.9917 - recall_2: 0.9756\n",
            "Epoch 17/40\n",
            "7/7 [==============================] - 0s 4ms/step - loss: 0.0950 - accuracy: 0.9725 - precision_2: 0.9680 - recall_2: 0.9837\n",
            "Epoch 18/40\n",
            "7/7 [==============================] - 0s 3ms/step - loss: 0.0864 - accuracy: 0.9587 - precision_2: 0.9750 - recall_2: 0.9512\n",
            "Epoch 19/40\n",
            "7/7 [==============================] - 0s 4ms/step - loss: 0.0852 - accuracy: 0.9633 - precision_2: 0.9457 - recall_2: 0.9919\n",
            "Epoch 20/40\n",
            "7/7 [==============================] - 0s 3ms/step - loss: 0.0916 - accuracy: 0.9633 - precision_2: 1.0000 - recall_2: 0.9350\n",
            "Epoch 21/40\n",
            "7/7 [==============================] - 0s 3ms/step - loss: 0.1308 - accuracy: 0.9587 - precision_2: 0.9385 - recall_2: 0.9919\n",
            "Epoch 22/40\n",
            "7/7 [==============================] - 0s 4ms/step - loss: 0.0910 - accuracy: 0.9679 - precision_2: 0.9915 - recall_2: 0.9512\n",
            "Epoch 23/40\n",
            "7/7 [==============================] - 0s 4ms/step - loss: 0.0928 - accuracy: 0.9633 - precision_2: 0.9752 - recall_2: 0.9593\n",
            "Epoch 24/40\n",
            "7/7 [==============================] - 0s 4ms/step - loss: 0.0682 - accuracy: 0.9725 - precision_2: 0.9756 - recall_2: 0.9756\n",
            "Epoch 25/40\n",
            "7/7 [==============================] - 0s 3ms/step - loss: 0.0727 - accuracy: 0.9725 - precision_2: 0.9756 - recall_2: 0.9756\n",
            "Epoch 26/40\n",
            "7/7 [==============================] - 0s 3ms/step - loss: 0.0590 - accuracy: 0.9771 - precision_2: 0.9758 - recall_2: 0.9837\n",
            "Epoch 27/40\n",
            "7/7 [==============================] - 0s 4ms/step - loss: 0.0684 - accuracy: 0.9725 - precision_2: 0.9916 - recall_2: 0.9593\n",
            "Epoch 28/40\n",
            "7/7 [==============================] - 0s 5ms/step - loss: 0.0618 - accuracy: 0.9908 - precision_2: 0.9919 - recall_2: 0.9919\n",
            "Epoch 29/40\n",
            "7/7 [==============================] - 0s 4ms/step - loss: 0.0488 - accuracy: 0.9862 - precision_2: 0.9918 - recall_2: 0.9837\n",
            "Epoch 30/40\n",
            "7/7 [==============================] - 0s 4ms/step - loss: 0.0479 - accuracy: 0.9725 - precision_2: 0.9756 - recall_2: 0.9756\n",
            "Epoch 31/40\n",
            "7/7 [==============================] - 0s 4ms/step - loss: 0.0400 - accuracy: 0.9862 - precision_2: 0.9839 - recall_2: 0.9919\n",
            "Epoch 32/40\n",
            "7/7 [==============================] - 0s 4ms/step - loss: 0.0453 - accuracy: 0.9862 - precision_2: 0.9918 - recall_2: 0.9837\n",
            "Epoch 33/40\n",
            "7/7 [==============================] - 0s 5ms/step - loss: 0.0349 - accuracy: 0.9908 - precision_2: 0.9919 - recall_2: 0.9919\n",
            "Epoch 34/40\n",
            "7/7 [==============================] - 0s 4ms/step - loss: 0.0467 - accuracy: 0.9817 - precision_2: 0.9917 - recall_2: 0.9756\n",
            "Epoch 35/40\n",
            "7/7 [==============================] - 0s 4ms/step - loss: 0.0693 - accuracy: 0.9725 - precision_2: 0.9835 - recall_2: 0.9675\n",
            "Epoch 36/40\n",
            "7/7 [==============================] - 0s 5ms/step - loss: 0.0338 - accuracy: 0.9817 - precision_2: 0.9837 - recall_2: 0.9837\n",
            "Epoch 37/40\n",
            "7/7 [==============================] - 0s 3ms/step - loss: 0.0333 - accuracy: 0.9862 - precision_2: 0.9839 - recall_2: 0.9919\n",
            "Epoch 38/40\n",
            "7/7 [==============================] - 0s 3ms/step - loss: 0.0408 - accuracy: 0.9862 - precision_2: 1.0000 - recall_2: 0.9756\n",
            "Epoch 39/40\n",
            "7/7 [==============================] - 0s 4ms/step - loss: 0.0415 - accuracy: 0.9771 - precision_2: 0.9758 - recall_2: 0.9837\n",
            "Epoch 40/40\n",
            "7/7 [==============================] - 0s 4ms/step - loss: 0.0375 - accuracy: 0.9817 - precision_2: 0.9917 - recall_2: 0.9756\n"
          ]
        },
        {
          "output_type": "execute_result",
          "data": {
            "text/plain": [
              "<keras.callbacks.History at 0x7f408e917890>"
            ]
          },
          "metadata": {},
          "execution_count": 69
        }
      ]
    },
    {
      "cell_type": "code",
      "metadata": {
        "id": "E-6ZIwu4waCi"
      },
      "source": [
        "# saving a model \n",
        "nn_model.save('nn_model.hdf5')"
      ],
      "execution_count": 70,
      "outputs": []
    },
    {
      "cell_type": "markdown",
      "metadata": {
        "id": "_3PQcYetpR-2"
      },
      "source": [
        "# inference"
      ]
    },
    {
      "cell_type": "code",
      "metadata": {
        "id": "mOztCsF0pBwk"
      },
      "source": [
        "import pickle"
      ],
      "execution_count": 37,
      "outputs": []
    },
    {
      "cell_type": "code",
      "metadata": {
        "colab": {
          "base_uri": "https://localhost:8080/",
          "height": 419
        },
        "id": "r023xEcFp6o7",
        "outputId": "d707d1c5-793c-45de-d0ce-72db01208f81"
      },
      "source": [
        "x"
      ],
      "execution_count": 43,
      "outputs": [
        {
          "output_type": "execute_result",
          "data": {
            "text/html": [
              "<div>\n",
              "<style scoped>\n",
              "    .dataframe tbody tr th:only-of-type {\n",
              "        vertical-align: middle;\n",
              "    }\n",
              "\n",
              "    .dataframe tbody tr th {\n",
              "        vertical-align: top;\n",
              "    }\n",
              "\n",
              "    .dataframe thead th {\n",
              "        text-align: right;\n",
              "    }\n",
              "</style>\n",
              "<table border=\"1\" class=\"dataframe\">\n",
              "  <thead>\n",
              "    <tr style=\"text-align: right;\">\n",
              "      <th></th>\n",
              "      <th>day</th>\n",
              "      <th>month</th>\n",
              "      <th>Temperature</th>\n",
              "      <th>RH</th>\n",
              "      <th>Ws</th>\n",
              "      <th>Rain</th>\n",
              "      <th>FFMC</th>\n",
              "      <th>DC</th>\n",
              "      <th>ISI</th>\n",
              "      <th>BUI</th>\n",
              "      <th>FWI</th>\n",
              "    </tr>\n",
              "  </thead>\n",
              "  <tbody>\n",
              "    <tr>\n",
              "      <th>0</th>\n",
              "      <td>1</td>\n",
              "      <td>6</td>\n",
              "      <td>29</td>\n",
              "      <td>57</td>\n",
              "      <td>18</td>\n",
              "      <td>0.0</td>\n",
              "      <td>65.7</td>\n",
              "      <td>7.6</td>\n",
              "      <td>1.3</td>\n",
              "      <td>3.4</td>\n",
              "      <td>0.5</td>\n",
              "    </tr>\n",
              "    <tr>\n",
              "      <th>1</th>\n",
              "      <td>2</td>\n",
              "      <td>6</td>\n",
              "      <td>29</td>\n",
              "      <td>61</td>\n",
              "      <td>13</td>\n",
              "      <td>1.3</td>\n",
              "      <td>64.4</td>\n",
              "      <td>7.6</td>\n",
              "      <td>1.0</td>\n",
              "      <td>3.9</td>\n",
              "      <td>0.4</td>\n",
              "    </tr>\n",
              "    <tr>\n",
              "      <th>2</th>\n",
              "      <td>3</td>\n",
              "      <td>6</td>\n",
              "      <td>26</td>\n",
              "      <td>82</td>\n",
              "      <td>22</td>\n",
              "      <td>13.1</td>\n",
              "      <td>47.1</td>\n",
              "      <td>7.1</td>\n",
              "      <td>0.3</td>\n",
              "      <td>2.7</td>\n",
              "      <td>0.1</td>\n",
              "    </tr>\n",
              "    <tr>\n",
              "      <th>3</th>\n",
              "      <td>4</td>\n",
              "      <td>6</td>\n",
              "      <td>25</td>\n",
              "      <td>89</td>\n",
              "      <td>13</td>\n",
              "      <td>2.5</td>\n",
              "      <td>28.6</td>\n",
              "      <td>6.9</td>\n",
              "      <td>0.0</td>\n",
              "      <td>1.7</td>\n",
              "      <td>0.0</td>\n",
              "    </tr>\n",
              "    <tr>\n",
              "      <th>4</th>\n",
              "      <td>5</td>\n",
              "      <td>6</td>\n",
              "      <td>27</td>\n",
              "      <td>77</td>\n",
              "      <td>16</td>\n",
              "      <td>0.0</td>\n",
              "      <td>64.8</td>\n",
              "      <td>14.2</td>\n",
              "      <td>1.2</td>\n",
              "      <td>3.9</td>\n",
              "      <td>0.5</td>\n",
              "    </tr>\n",
              "    <tr>\n",
              "      <th>...</th>\n",
              "      <td>...</td>\n",
              "      <td>...</td>\n",
              "      <td>...</td>\n",
              "      <td>...</td>\n",
              "      <td>...</td>\n",
              "      <td>...</td>\n",
              "      <td>...</td>\n",
              "      <td>...</td>\n",
              "      <td>...</td>\n",
              "      <td>...</td>\n",
              "      <td>...</td>\n",
              "    </tr>\n",
              "    <tr>\n",
              "      <th>239</th>\n",
              "      <td>26</td>\n",
              "      <td>9</td>\n",
              "      <td>30</td>\n",
              "      <td>65</td>\n",
              "      <td>14</td>\n",
              "      <td>0.0</td>\n",
              "      <td>85.4</td>\n",
              "      <td>44.5</td>\n",
              "      <td>4.5</td>\n",
              "      <td>16.9</td>\n",
              "      <td>6.5</td>\n",
              "    </tr>\n",
              "    <tr>\n",
              "      <th>240</th>\n",
              "      <td>27</td>\n",
              "      <td>9</td>\n",
              "      <td>28</td>\n",
              "      <td>87</td>\n",
              "      <td>15</td>\n",
              "      <td>4.4</td>\n",
              "      <td>41.1</td>\n",
              "      <td>8.0</td>\n",
              "      <td>0.1</td>\n",
              "      <td>6.2</td>\n",
              "      <td>0.0</td>\n",
              "    </tr>\n",
              "    <tr>\n",
              "      <th>241</th>\n",
              "      <td>28</td>\n",
              "      <td>9</td>\n",
              "      <td>27</td>\n",
              "      <td>87</td>\n",
              "      <td>29</td>\n",
              "      <td>0.5</td>\n",
              "      <td>45.9</td>\n",
              "      <td>7.9</td>\n",
              "      <td>0.4</td>\n",
              "      <td>3.4</td>\n",
              "      <td>0.2</td>\n",
              "    </tr>\n",
              "    <tr>\n",
              "      <th>242</th>\n",
              "      <td>29</td>\n",
              "      <td>9</td>\n",
              "      <td>24</td>\n",
              "      <td>54</td>\n",
              "      <td>18</td>\n",
              "      <td>0.1</td>\n",
              "      <td>79.7</td>\n",
              "      <td>15.2</td>\n",
              "      <td>1.7</td>\n",
              "      <td>5.1</td>\n",
              "      <td>0.7</td>\n",
              "    </tr>\n",
              "    <tr>\n",
              "      <th>243</th>\n",
              "      <td>30</td>\n",
              "      <td>9</td>\n",
              "      <td>24</td>\n",
              "      <td>64</td>\n",
              "      <td>15</td>\n",
              "      <td>0.2</td>\n",
              "      <td>67.3</td>\n",
              "      <td>16.5</td>\n",
              "      <td>1.2</td>\n",
              "      <td>4.8</td>\n",
              "      <td>0.5</td>\n",
              "    </tr>\n",
              "  </tbody>\n",
              "</table>\n",
              "<p>243 rows × 11 columns</p>\n",
              "</div>"
            ],
            "text/plain": [
              "     day  month  Temperature   RH   Ws  Rain   FFMC    DC  ISI   BUI  FWI\n",
              "0      1      6           29   57   18    0.0  65.7   7.6  1.3   3.4  0.5\n",
              "1      2      6           29   61   13    1.3  64.4   7.6  1.0   3.9  0.4\n",
              "2      3      6           26   82   22   13.1  47.1   7.1  0.3   2.7  0.1\n",
              "3      4      6           25   89   13    2.5  28.6   6.9  0.0   1.7  0.0\n",
              "4      5      6           27   77   16    0.0  64.8  14.2  1.2   3.9  0.5\n",
              "..   ...    ...          ...  ...  ...    ...   ...   ...  ...   ...  ...\n",
              "239   26      9           30   65   14    0.0  85.4  44.5  4.5  16.9  6.5\n",
              "240   27      9           28   87   15    4.4  41.1   8.0  0.1   6.2  0.0\n",
              "241   28      9           27   87   29    0.5  45.9   7.9  0.4   3.4  0.2\n",
              "242   29      9           24   54   18    0.1  79.7  15.2  1.7   5.1  0.7\n",
              "243   30      9           24   64   15    0.2  67.3  16.5  1.2   4.8  0.5\n",
              "\n",
              "[243 rows x 11 columns]"
            ]
          },
          "metadata": {},
          "execution_count": 43
        }
      ]
    },
    {
      "cell_type": "code",
      "metadata": {
        "id": "rlmd7Cb5puvP"
      },
      "source": [
        "loaded_scaler = pickle.load(open(\"scaler.pkl\", 'rb'))  #loading minmaxscaler\n",
        "test_x = loaded_scaler.transform(x)"
      ],
      "execution_count": 45,
      "outputs": []
    },
    {
      "cell_type": "code",
      "metadata": {
        "colab": {
          "base_uri": "https://localhost:8080/"
        },
        "id": "eilZMrJjqN5V",
        "outputId": "cb63ec4d-347d-462a-e7f7-9d212c453fc8"
      },
      "source": [
        "test_x"
      ],
      "execution_count": 47,
      "outputs": [
        {
          "output_type": "execute_result",
          "data": {
            "text/plain": [
              "array([[0.        , 0.        , 0.35      , ..., 0.06842105, 0.03437967,\n",
              "        0.01607717],\n",
              "       [0.03333333, 0.        , 0.35      , ..., 0.05263158, 0.04185351,\n",
              "        0.01286174],\n",
              "       [0.06666667, 0.        , 0.2       , ..., 0.01578947, 0.02391629,\n",
              "        0.00321543],\n",
              "       ...,\n",
              "       [0.9       , 1.        , 0.25      , ..., 0.02105263, 0.03437967,\n",
              "        0.00643087],\n",
              "       [0.93333333, 1.        , 0.1       , ..., 0.08947368, 0.05979073,\n",
              "        0.02250804],\n",
              "       [0.96666667, 1.        , 0.1       , ..., 0.06315789, 0.05530643,\n",
              "        0.01607717]])"
            ]
          },
          "metadata": {},
          "execution_count": 47
        }
      ]
    },
    {
      "cell_type": "code",
      "metadata": {
        "id": "HKQf-gGgkNum"
      },
      "source": [
        "loaded_model = pickle.load(open(filename, 'rb'))"
      ],
      "execution_count": 39,
      "outputs": []
    },
    {
      "cell_type": "code",
      "metadata": {
        "colab": {
          "base_uri": "https://localhost:8080/"
        },
        "id": "Wft4YsihkNrz",
        "outputId": "32b313c6-4a6c-40d0-f830-8f6fde8c9063"
      },
      "source": [
        "loaded_model.predict(x_test)"
      ],
      "execution_count": 40,
      "outputs": [
        {
          "output_type": "execute_result",
          "data": {
            "text/plain": [
              "array([1, 1, 0, 0, 1, 1, 1, 1, 1, 0, 1, 0, 1, 1, 0, 1, 0, 1, 1, 0, 0, 0,\n",
              "       0, 0, 0])"
            ]
          },
          "metadata": {},
          "execution_count": 40
        }
      ]
    },
    {
      "cell_type": "code",
      "metadata": {
        "id": "laEqMdoY5HP3"
      },
      "source": [
        "from tensorflow.keras.models import load_model"
      ],
      "execution_count": 75,
      "outputs": []
    },
    {
      "cell_type": "code",
      "metadata": {
        "id": "gWApPZzl5VNg"
      },
      "source": [
        "nn_model = load_model('/content/nn_model.hdf5')       #loading nn model "
      ],
      "execution_count": 76,
      "outputs": []
    },
    {
      "cell_type": "code",
      "metadata": {
        "colab": {
          "base_uri": "https://localhost:8080/"
        },
        "id": "R3h9YjTVkNn5",
        "outputId": "dca724f2-ee04-45ca-fa14-87087bb880f9"
      },
      "source": [
        "np.round(nn_model.predict(x_test))"
      ],
      "execution_count": 77,
      "outputs": [
        {
          "output_type": "execute_result",
          "data": {
            "text/plain": [
              "array([[1.],\n",
              "       [1.],\n",
              "       [0.],\n",
              "       [0.],\n",
              "       [1.],\n",
              "       [1.],\n",
              "       [1.],\n",
              "       [1.],\n",
              "       [1.],\n",
              "       [0.],\n",
              "       [1.],\n",
              "       [0.],\n",
              "       [1.],\n",
              "       [1.],\n",
              "       [0.],\n",
              "       [1.],\n",
              "       [0.],\n",
              "       [1.],\n",
              "       [1.],\n",
              "       [1.],\n",
              "       [0.],\n",
              "       [0.],\n",
              "       [0.],\n",
              "       [0.],\n",
              "       [0.]], dtype=float32)"
            ]
          },
          "metadata": {},
          "execution_count": 77
        }
      ]
    }
  ]
}